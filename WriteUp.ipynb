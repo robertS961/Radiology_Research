{
  "nbformat": 4,
  "nbformat_minor": 0,
  "metadata": {
    "colab": {
      "provenance": []
    },
    "kernelspec": {
      "name": "python3",
      "display_name": "Python 3"
    },
    "language_info": {
      "name": "python"
    }
  },
  "cells": [
    {
      "cell_type": "markdown",
      "source": [
        "# Welcome to the Radiologist Research Project Set Up!\n",
        "\n",
        "> Please follow these steps to access the application!"
      ],
      "metadata": {
        "id": "BXTWkPFOq1n7"
      }
    },
    {
      "cell_type": "markdown",
      "source": [
        "## 1) Download Node.js\n",
        "\n",
        "1. Go to https://nodejs.org/en/download/prebuilt-installer\n",
        "1. Select the correct parameters for installation\n",
        "  1. v20.18.0 version of node.js\n",
        "  1. Your operating system(Mac OS, Windows, or Linux)\n",
        "  1. The corresponding version (normally x64).\n",
        "1. Click the large green download button in the middle left of the screen\n",
        "1. Go into your downloads folder and open the downloaded file.\n",
        "1. Agree to the software agreement and access to the installation location.\n",
        "\n",
        "* \t•\tNode.js v20.18.0 to /usr/local/bin/node\n",
        "\t•\tnpm v10.8.2 to /usr/local/bin/npm\n",
        "Make sure that /usr/local/bin is in your $PATH."
      ],
      "metadata": {
        "id": "UIqXmmBCsQgx"
      }
    },
    {
      "cell_type": "markdown",
      "source": [
        "## 2) Check that Node.js is installed.\n",
        "\n",
        "1. Run the following code in your computers terminal(iterm for mac, windows terminal for windows). It should state the version of node.js that is installed."
      ],
      "metadata": {
        "id": "ZW4qhe8JuNPX"
      }
    },
    {
      "cell_type": "code",
      "source": [
        "#input, type the white text in the terminal, never the green.\n",
        "node - version"
      ],
      "metadata": {
        "id": "aIUDQAh3vJ0Q"
      },
      "execution_count": null,
      "outputs": []
    },
    {
      "cell_type": "code",
      "source": [
        "# Ouput from the above line(not including the green text)\n",
        "Welcome to Node.js v20.18.0."
      ],
      "metadata": {
        "id": "WhF01SC1vQVg"
      },
      "execution_count": null,
      "outputs": []
    },
    {
      "cell_type": "code",
      "source": [
        "# Run this line next(not the green text, only white)\n",
        ".exit"
      ],
      "metadata": {
        "id": "ZsZzUKpJxhfO"
      },
      "execution_count": null,
      "outputs": []
    },
    {
      "cell_type": "markdown",
      "source": [
        "## 3) Download Visual Code Studio\n",
        "\n",
        "1. Go to https://code.visualstudio.com/download\n",
        "1. Once again select your parameters for your computer\n",
        "1. Click the large blue button with the down wards arrow.\n",
        "1. Navigated to the downloads folder and agree to the download instructions."
      ],
      "metadata": {
        "id": "k-O4iUmBvzdG"
      }
    },
    {
      "cell_type": "markdown",
      "source": [
        "## 4) Create the Project\n",
        "\n",
        "1. Run the following code in the terminal"
      ],
      "metadata": {
        "id": "_FwTB4OFwu9h"
      }
    },
    {
      "cell_type": "code",
      "source": [
        "# Input, one line at a time! Copy and Paste each line into the terminal then hit enter!\n",
        "mkdir chatgpt-app\n",
        "cd chatgpt-app\n",
        "npm init -y"
      ],
      "metadata": {
        "id": "POKjEj1Cw80n"
      },
      "execution_count": null,
      "outputs": []
    },
    {
      "cell_type": "code",
      "source": [
        "# Output, do not run this code!\n",
        "Wrote to /Users/robertspecht/chatgpt-app/package.json:\n",
        "\n",
        "{\n",
        "  \"name\": \"chatgpt-app\",\n",
        "  \"version\": \"1.0.0\",\n",
        "  \"main\": \"index.js\",\n",
        "  \"scripts\": {\n",
        "    \"test\": \"echo \\\"Error: no test specified\\\" && exit 1\"\n",
        "  },\n",
        "  \"keywords\": [],\n",
        "  \"author\": \"\",\n",
        "  \"license\": \"ISC\",\n",
        "  \"description\": \"\"\n",
        "}"
      ],
      "metadata": {
        "id": "UzqS9FYKxwOY"
      },
      "execution_count": null,
      "outputs": []
    },
    {
      "cell_type": "markdown",
      "source": [
        "## 5) Install the needed packages\n",
        "\n",
        "1. Run the following code in the terminal"
      ],
      "metadata": {
        "id": "Hrj6QL3hxHSM"
      }
    },
    {
      "cell_type": "code",
      "source": [
        "# Input\n",
        "npm install axios"
      ],
      "metadata": {
        "id": "Y2fPWEkD0E2V"
      },
      "execution_count": null,
      "outputs": []
    },
    {
      "cell_type": "code",
      "source": [
        "# Output\n",
        "added 9 packages, and audited 10 packages in 3s\n",
        "\n",
        "1 package is looking for funding\n",
        "  run `npm fund` for details\n",
        "\n",
        "found 0 vulnerabilities"
      ],
      "metadata": {
        "id": "b4A_ep5l0MSt"
      },
      "execution_count": null,
      "outputs": []
    },
    {
      "cell_type": "markdown",
      "source": [
        "## 6) Paste our file into the correct directory\n",
        "1. Find your chatgpt-app folder that we created from the command line. Search for it in either finder(mac) or taskbar(Windows)\n",
        "\n",
        "1. Paste our app.js file into that folder.\n"
      ],
      "metadata": {
        "id": "kaIFi9il0QCY"
      }
    },
    {
      "cell_type": "markdown",
      "source": [
        "## 7) Run our Application\n",
        "\n",
        "1. Post the following code in the terminal"
      ],
      "metadata": {
        "id": "BFWxGNY321Lg"
      }
    },
    {
      "cell_type": "code",
      "source": [
        "# Input\n",
        "node app.js"
      ],
      "metadata": {
        "id": "N2tpWlCR297a"
      },
      "execution_count": null,
      "outputs": []
    },
    {
      "cell_type": "markdown",
      "source": [
        "### Results (7)\n",
        "\n",
        "> This should all you to chat with chatgpt.\n",
        "> This is the custom-trained chat gpt model for the radiologist that will break up and interpret the note."
      ],
      "metadata": {
        "id": "mptBU32B3Axg"
      }
    },
    {
      "cell_type": "code",
      "source": [],
      "metadata": {
        "id": "_cLAemNY5loP"
      },
      "execution_count": null,
      "outputs": []
    }
  ]
}